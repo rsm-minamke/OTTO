{
 "cells": [
  {
   "cell_type": "code",
   "execution_count": 6,
   "metadata": {},
   "outputs": [],
   "source": [
    "import pandas as pd, numpy as np\n",
    "\n",
    "import glob\n",
    "\n",
    "\n",
    "import warnings\n",
    "warnings.filterwarnings(\"ignore\")\n",
    "\n",
    "from datetime import datetime\n",
    "\n",
    "from tqdm import tqdm\n",
    "\n",
    "type_labels = {'clicks':1, 'carts':2, 'orders':3}"
   ]
  },
  {
   "cell_type": "code",
   "execution_count": 13,
   "metadata": {},
   "outputs": [],
   "source": [
    "def load(which):    \n",
    "    dfs = []\n",
    "\n",
    "    test_files = glob.glob('C:/Users/mrun7/Downloads/kaggle/'+which+'_parquet/*')\n",
    "    \n",
    "    for e, chunk_file in enumerate(test_files):\n",
    "        chunk = pd.read_parquet(chunk_file)\n",
    "        chunk.ts = (chunk.ts/1000).astype('int32')\n",
    "        chunk['type'] = chunk['type'].map(type_labels).astype('int8')\n",
    "        dfs.append(chunk)\n",
    "        \n",
    "    return pd.concat(dfs).reset_index(drop=True)"
   ]
  },
  {
   "cell_type": "code",
   "execution_count": 14,
   "metadata": {},
   "outputs": [],
   "source": [
    "test_df = load('test')\n",
    "train_df = load('train')"
   ]
  },
  {
   "cell_type": "code",
   "execution_count": 15,
   "metadata": {},
   "outputs": [
    {
     "data": {
      "text/html": [
       "<div>\n",
       "<style scoped>\n",
       "    .dataframe tbody tr th:only-of-type {\n",
       "        vertical-align: middle;\n",
       "    }\n",
       "\n",
       "    .dataframe tbody tr th {\n",
       "        vertical-align: top;\n",
       "    }\n",
       "\n",
       "    .dataframe thead th {\n",
       "        text-align: right;\n",
       "    }\n",
       "</style>\n",
       "<table border=\"1\" class=\"dataframe\">\n",
       "  <thead>\n",
       "    <tr style=\"text-align: right;\">\n",
       "      <th></th>\n",
       "      <th>session</th>\n",
       "      <th>aid</th>\n",
       "      <th>ts</th>\n",
       "      <th>type</th>\n",
       "    </tr>\n",
       "  </thead>\n",
       "  <tbody>\n",
       "    <tr>\n",
       "      <th>0</th>\n",
       "      <td>0</td>\n",
       "      <td>1517085</td>\n",
       "      <td>1659304800</td>\n",
       "      <td>1</td>\n",
       "    </tr>\n",
       "    <tr>\n",
       "      <th>1</th>\n",
       "      <td>0</td>\n",
       "      <td>1563459</td>\n",
       "      <td>1659304904</td>\n",
       "      <td>1</td>\n",
       "    </tr>\n",
       "    <tr>\n",
       "      <th>2</th>\n",
       "      <td>0</td>\n",
       "      <td>1309446</td>\n",
       "      <td>1659367439</td>\n",
       "      <td>1</td>\n",
       "    </tr>\n",
       "    <tr>\n",
       "      <th>3</th>\n",
       "      <td>0</td>\n",
       "      <td>16246</td>\n",
       "      <td>1659367719</td>\n",
       "      <td>1</td>\n",
       "    </tr>\n",
       "    <tr>\n",
       "      <th>4</th>\n",
       "      <td>0</td>\n",
       "      <td>1781822</td>\n",
       "      <td>1659367871</td>\n",
       "      <td>1</td>\n",
       "    </tr>\n",
       "    <tr>\n",
       "      <th>...</th>\n",
       "      <td>...</td>\n",
       "      <td>...</td>\n",
       "      <td>...</td>\n",
       "      <td>...</td>\n",
       "    </tr>\n",
       "    <tr>\n",
       "      <th>216716091</th>\n",
       "      <td>12899776</td>\n",
       "      <td>1737908</td>\n",
       "      <td>1661723987</td>\n",
       "      <td>1</td>\n",
       "    </tr>\n",
       "    <tr>\n",
       "      <th>216716092</th>\n",
       "      <td>12899777</td>\n",
       "      <td>384045</td>\n",
       "      <td>1661723976</td>\n",
       "      <td>1</td>\n",
       "    </tr>\n",
       "    <tr>\n",
       "      <th>216716093</th>\n",
       "      <td>12899777</td>\n",
       "      <td>384045</td>\n",
       "      <td>1661723986</td>\n",
       "      <td>1</td>\n",
       "    </tr>\n",
       "    <tr>\n",
       "      <th>216716094</th>\n",
       "      <td>12899778</td>\n",
       "      <td>561560</td>\n",
       "      <td>1661723983</td>\n",
       "      <td>1</td>\n",
       "    </tr>\n",
       "    <tr>\n",
       "      <th>216716095</th>\n",
       "      <td>12899778</td>\n",
       "      <td>32070</td>\n",
       "      <td>1661723994</td>\n",
       "      <td>1</td>\n",
       "    </tr>\n",
       "  </tbody>\n",
       "</table>\n",
       "<p>216716096 rows × 4 columns</p>\n",
       "</div>"
      ],
      "text/plain": [
       "            session      aid          ts  type\n",
       "0                 0  1517085  1659304800     1\n",
       "1                 0  1563459  1659304904     1\n",
       "2                 0  1309446  1659367439     1\n",
       "3                 0    16246  1659367719     1\n",
       "4                 0  1781822  1659367871     1\n",
       "...             ...      ...         ...   ...\n",
       "216716091  12899776  1737908  1661723987     1\n",
       "216716092  12899777   384045  1661723976     1\n",
       "216716093  12899777   384045  1661723986     1\n",
       "216716094  12899778   561560  1661723983     1\n",
       "216716095  12899778    32070  1661723994     1\n",
       "\n",
       "[216716096 rows x 4 columns]"
      ]
     },
     "execution_count": 15,
     "metadata": {},
     "output_type": "execute_result"
    }
   ],
   "source": [
    "train_df"
   ]
  },
  {
   "cell_type": "code",
   "execution_count": 16,
   "metadata": {},
   "outputs": [
    {
     "data": {
      "text/plain": [
       "1661410800.0"
      ]
     },
     "execution_count": 16,
     "metadata": {},
     "output_type": "execute_result"
    }
   ],
   "source": [
    "datetime.strptime(\"2022-08-25 00:00:00\", \"%Y-%m-%d %H:%M:%S\").timestamp()"
   ]
  },
  {
   "cell_type": "code",
   "execution_count": 17,
   "metadata": {},
   "outputs": [
    {
     "data": {
      "text/plain": [
       "31007748"
      ]
     },
     "execution_count": 17,
     "metadata": {},
     "output_type": "execute_result"
    }
   ],
   "source": [
    "sum(train_df['ts']>=1661385600)"
   ]
  },
  {
   "cell_type": "code",
   "execution_count": 18,
   "metadata": {},
   "outputs": [],
   "source": [
    "train_df = train_df[train_df['ts']>=1661385600].reset_index(drop=True)"
   ]
  },
  {
   "cell_type": "code",
   "execution_count": 19,
   "metadata": {},
   "outputs": [],
   "source": [
    "train_df['datetime'] = train_df['ts'].apply(lambda x: datetime.fromtimestamp(x))"
   ]
  },
  {
   "cell_type": "code",
   "execution_count": 20,
   "metadata": {},
   "outputs": [
    {
     "data": {
      "text/plain": [
       "(31007748, 5)"
      ]
     },
     "execution_count": 20,
     "metadata": {},
     "output_type": "execute_result"
    }
   ],
   "source": [
    "train_df.shape"
   ]
  },
  {
   "cell_type": "code",
   "execution_count": 21,
   "metadata": {},
   "outputs": [
    {
     "data": {
      "text/plain": [
       "array([25, 26, 27, 28, 24], dtype=int32)"
      ]
     },
     "execution_count": 21,
     "metadata": {},
     "output_type": "execute_result"
    }
   ],
   "source": [
    "train_df['datetime'].dt.day.unique()"
   ]
  },
  {
   "cell_type": "code",
   "execution_count": 22,
   "metadata": {},
   "outputs": [],
   "source": [
    "train_df['day'] = train_df['datetime'].dt.day"
   ]
  },
  {
   "cell_type": "code",
   "execution_count": 23,
   "metadata": {},
   "outputs": [],
   "source": [
    "df_val_offline = train_df[train_df['day']==28].reset_index(drop=True)\n",
    "df_train_offline = train_df[train_df['day']<28].reset_index(drop=True)"
   ]
  },
  {
   "cell_type": "code",
   "execution_count": 24,
   "metadata": {},
   "outputs": [],
   "source": [
    "aid_pop_sta = df_train_offline.groupby(['aid','type'],as_index=False)['session'].count()"
   ]
  },
  {
   "cell_type": "code",
   "execution_count": 25,
   "metadata": {},
   "outputs": [],
   "source": [
    "aid_pop_sta.columns = ['aid','type','pop']"
   ]
  },
  {
   "cell_type": "code",
   "execution_count": 26,
   "metadata": {},
   "outputs": [
    {
     "data": {
      "text/html": [
       "<div>\n",
       "<style scoped>\n",
       "    .dataframe tbody tr th:only-of-type {\n",
       "        vertical-align: middle;\n",
       "    }\n",
       "\n",
       "    .dataframe tbody tr th {\n",
       "        vertical-align: top;\n",
       "    }\n",
       "\n",
       "    .dataframe thead th {\n",
       "        text-align: right;\n",
       "    }\n",
       "</style>\n",
       "<table border=\"1\" class=\"dataframe\">\n",
       "  <thead>\n",
       "    <tr style=\"text-align: right;\">\n",
       "      <th></th>\n",
       "      <th>aid</th>\n",
       "      <th>type</th>\n",
       "      <th>pop</th>\n",
       "    </tr>\n",
       "  </thead>\n",
       "  <tbody>\n",
       "    <tr>\n",
       "      <th>0</th>\n",
       "      <td>0</td>\n",
       "      <td>1</td>\n",
       "      <td>5</td>\n",
       "    </tr>\n",
       "    <tr>\n",
       "      <th>1</th>\n",
       "      <td>1</td>\n",
       "      <td>1</td>\n",
       "      <td>2</td>\n",
       "    </tr>\n",
       "    <tr>\n",
       "      <th>2</th>\n",
       "      <td>2</td>\n",
       "      <td>1</td>\n",
       "      <td>2</td>\n",
       "    </tr>\n",
       "    <tr>\n",
       "      <th>3</th>\n",
       "      <td>3</td>\n",
       "      <td>1</td>\n",
       "      <td>582</td>\n",
       "    </tr>\n",
       "    <tr>\n",
       "      <th>4</th>\n",
       "      <td>3</td>\n",
       "      <td>2</td>\n",
       "      <td>59</td>\n",
       "    </tr>\n",
       "    <tr>\n",
       "      <th>...</th>\n",
       "      <td>...</td>\n",
       "      <td>...</td>\n",
       "      <td>...</td>\n",
       "    </tr>\n",
       "    <tr>\n",
       "      <th>1845735</th>\n",
       "      <td>1855598</td>\n",
       "      <td>1</td>\n",
       "      <td>1</td>\n",
       "    </tr>\n",
       "    <tr>\n",
       "      <th>1845736</th>\n",
       "      <td>1855599</td>\n",
       "      <td>1</td>\n",
       "      <td>1</td>\n",
       "    </tr>\n",
       "    <tr>\n",
       "      <th>1845737</th>\n",
       "      <td>1855600</td>\n",
       "      <td>1</td>\n",
       "      <td>6</td>\n",
       "    </tr>\n",
       "    <tr>\n",
       "      <th>1845738</th>\n",
       "      <td>1855600</td>\n",
       "      <td>2</td>\n",
       "      <td>1</td>\n",
       "    </tr>\n",
       "    <tr>\n",
       "      <th>1845739</th>\n",
       "      <td>1855602</td>\n",
       "      <td>1</td>\n",
       "      <td>1</td>\n",
       "    </tr>\n",
       "  </tbody>\n",
       "</table>\n",
       "<p>1845740 rows × 3 columns</p>\n",
       "</div>"
      ],
      "text/plain": [
       "             aid  type  pop\n",
       "0              0     1    5\n",
       "1              1     1    2\n",
       "2              2     1    2\n",
       "3              3     1  582\n",
       "4              3     2   59\n",
       "...          ...   ...  ...\n",
       "1845735  1855598     1    1\n",
       "1845736  1855599     1    1\n",
       "1845737  1855600     1    6\n",
       "1845738  1855600     2    1\n",
       "1845739  1855602     1    1\n",
       "\n",
       "[1845740 rows x 3 columns]"
      ]
     },
     "execution_count": 26,
     "metadata": {},
     "output_type": "execute_result"
    }
   ],
   "source": [
    "aid_pop_sta"
   ]
  },
  {
   "cell_type": "code",
   "execution_count": 32,
   "metadata": {},
   "outputs": [],
   "source": [
    "aid_pop_sta = aid_pop_sta.sort_values('pop', ascending=False).reset_index(drop=True)"
   ]
  },
  {
   "cell_type": "code",
   "execution_count": 33,
   "metadata": {},
   "outputs": [
    {
     "data": {
      "text/html": [
       "<div>\n",
       "<style scoped>\n",
       "    .dataframe tbody tr th:only-of-type {\n",
       "        vertical-align: middle;\n",
       "    }\n",
       "\n",
       "    .dataframe tbody tr th {\n",
       "        vertical-align: top;\n",
       "    }\n",
       "\n",
       "    .dataframe thead th {\n",
       "        text-align: right;\n",
       "    }\n",
       "</style>\n",
       "<table border=\"1\" class=\"dataframe\">\n",
       "  <thead>\n",
       "    <tr style=\"text-align: right;\">\n",
       "      <th></th>\n",
       "      <th>aid</th>\n",
       "      <th>type</th>\n",
       "      <th>pop</th>\n",
       "    </tr>\n",
       "  </thead>\n",
       "  <tbody>\n",
       "    <tr>\n",
       "      <th>0</th>\n",
       "      <td>876493</td>\n",
       "      <td>1</td>\n",
       "      <td>22747</td>\n",
       "    </tr>\n",
       "    <tr>\n",
       "      <th>1</th>\n",
       "      <td>171982</td>\n",
       "      <td>1</td>\n",
       "      <td>15032</td>\n",
       "    </tr>\n",
       "    <tr>\n",
       "      <th>2</th>\n",
       "      <td>1460571</td>\n",
       "      <td>1</td>\n",
       "      <td>14825</td>\n",
       "    </tr>\n",
       "    <tr>\n",
       "      <th>3</th>\n",
       "      <td>108125</td>\n",
       "      <td>1</td>\n",
       "      <td>13706</td>\n",
       "    </tr>\n",
       "    <tr>\n",
       "      <th>4</th>\n",
       "      <td>373490</td>\n",
       "      <td>1</td>\n",
       "      <td>11622</td>\n",
       "    </tr>\n",
       "    <tr>\n",
       "      <th>...</th>\n",
       "      <td>...</td>\n",
       "      <td>...</td>\n",
       "      <td>...</td>\n",
       "    </tr>\n",
       "    <tr>\n",
       "      <th>1845735</th>\n",
       "      <td>292803</td>\n",
       "      <td>1</td>\n",
       "      <td>1</td>\n",
       "    </tr>\n",
       "    <tr>\n",
       "      <th>1845736</th>\n",
       "      <td>292802</td>\n",
       "      <td>1</td>\n",
       "      <td>1</td>\n",
       "    </tr>\n",
       "    <tr>\n",
       "      <th>1845737</th>\n",
       "      <td>292798</td>\n",
       "      <td>1</td>\n",
       "      <td>1</td>\n",
       "    </tr>\n",
       "    <tr>\n",
       "      <th>1845738</th>\n",
       "      <td>1242437</td>\n",
       "      <td>1</td>\n",
       "      <td>1</td>\n",
       "    </tr>\n",
       "    <tr>\n",
       "      <th>1845739</th>\n",
       "      <td>1242433</td>\n",
       "      <td>1</td>\n",
       "      <td>1</td>\n",
       "    </tr>\n",
       "  </tbody>\n",
       "</table>\n",
       "<p>1845740 rows × 3 columns</p>\n",
       "</div>"
      ],
      "text/plain": [
       "             aid  type    pop\n",
       "0         876493     1  22747\n",
       "1         171982     1  15032\n",
       "2        1460571     1  14825\n",
       "3         108125     1  13706\n",
       "4         373490     1  11622\n",
       "...          ...   ...    ...\n",
       "1845735   292803     1      1\n",
       "1845736   292802     1      1\n",
       "1845737   292798     1      1\n",
       "1845738  1242437     1      1\n",
       "1845739  1242433     1      1\n",
       "\n",
       "[1845740 rows x 3 columns]"
      ]
     },
     "execution_count": 33,
     "metadata": {},
     "output_type": "execute_result"
    }
   ],
   "source": [
    "aid_pop_sta"
   ]
  },
  {
   "cell_type": "code",
   "execution_count": 34,
   "metadata": {},
   "outputs": [],
   "source": [
    "top200_aid_click = list(aid_pop_sta.loc[aid_pop_sta['type']==1,'aid'][:200])\n",
    "top200_aid_cart = list(aid_pop_sta.loc[aid_pop_sta['type']==2,'aid'][:200])\n",
    "top200_aid_order = list(aid_pop_sta.loc[aid_pop_sta['type']==3,'aid'][:200])"
   ]
  },
  {
   "cell_type": "code",
   "execution_count": 35,
   "metadata": {},
   "outputs": [],
   "source": [
    "target_users = list( df_val_offline['session'].unique() )"
   ]
  },
  {
   "cell_type": "code",
   "execution_count": 36,
   "metadata": {},
   "outputs": [
    {
     "data": {
      "text/plain": [
       "1260204"
      ]
     },
     "execution_count": 36,
     "metadata": {},
     "output_type": "execute_result"
    }
   ],
   "source": [
    "len(target_users)"
   ]
  },
  {
   "cell_type": "code",
   "execution_count": 37,
   "metadata": {},
   "outputs": [
    {
     "data": {
      "text/html": [
       "<div>\n",
       "<style scoped>\n",
       "    .dataframe tbody tr th:only-of-type {\n",
       "        vertical-align: middle;\n",
       "    }\n",
       "\n",
       "    .dataframe tbody tr th {\n",
       "        vertical-align: top;\n",
       "    }\n",
       "\n",
       "    .dataframe thead th {\n",
       "        text-align: right;\n",
       "    }\n",
       "</style>\n",
       "<table border=\"1\" class=\"dataframe\">\n",
       "  <thead>\n",
       "    <tr style=\"text-align: right;\">\n",
       "      <th></th>\n",
       "      <th>session</th>\n",
       "      <th>type</th>\n",
       "      <th>aid</th>\n",
       "    </tr>\n",
       "  </thead>\n",
       "  <tbody>\n",
       "    <tr>\n",
       "      <th>0</th>\n",
       "      <td>0</td>\n",
       "      <td>1</td>\n",
       "      <td>[1436439, 102416, 190818, 1157411, 138431, 543...</td>\n",
       "    </tr>\n",
       "    <tr>\n",
       "      <th>1</th>\n",
       "      <td>0</td>\n",
       "      <td>2</td>\n",
       "      <td>[275288, 974651, 543308, 543308, 442293, 15496...</td>\n",
       "    </tr>\n",
       "    <tr>\n",
       "      <th>2</th>\n",
       "      <td>0</td>\n",
       "      <td>3</td>\n",
       "      <td>[1199474, 543308]</td>\n",
       "    </tr>\n",
       "    <tr>\n",
       "      <th>3</th>\n",
       "      <td>1</td>\n",
       "      <td>1</td>\n",
       "      <td>[1464360]</td>\n",
       "    </tr>\n",
       "    <tr>\n",
       "      <th>4</th>\n",
       "      <td>13</td>\n",
       "      <td>1</td>\n",
       "      <td>[1670763]</td>\n",
       "    </tr>\n",
       "    <tr>\n",
       "      <th>...</th>\n",
       "      <td>...</td>\n",
       "      <td>...</td>\n",
       "      <td>...</td>\n",
       "    </tr>\n",
       "    <tr>\n",
       "      <th>743392</th>\n",
       "      <td>12648846</td>\n",
       "      <td>1</td>\n",
       "      <td>[645240]</td>\n",
       "    </tr>\n",
       "    <tr>\n",
       "      <th>743393</th>\n",
       "      <td>12648847</td>\n",
       "      <td>1</td>\n",
       "      <td>[1157604]</td>\n",
       "    </tr>\n",
       "    <tr>\n",
       "      <th>743394</th>\n",
       "      <td>12648848</td>\n",
       "      <td>1</td>\n",
       "      <td>[1100860]</td>\n",
       "    </tr>\n",
       "    <tr>\n",
       "      <th>743395</th>\n",
       "      <td>12648849</td>\n",
       "      <td>1</td>\n",
       "      <td>[360363]</td>\n",
       "    </tr>\n",
       "    <tr>\n",
       "      <th>743396</th>\n",
       "      <td>12648850</td>\n",
       "      <td>1</td>\n",
       "      <td>[1196630]</td>\n",
       "    </tr>\n",
       "  </tbody>\n",
       "</table>\n",
       "<p>743397 rows × 3 columns</p>\n",
       "</div>"
      ],
      "text/plain": [
       "         session  type                                                aid\n",
       "0              0     1  [1436439, 102416, 190818, 1157411, 138431, 543...\n",
       "1              0     2  [275288, 974651, 543308, 543308, 442293, 15496...\n",
       "2              0     3                                  [1199474, 543308]\n",
       "3              1     1                                          [1464360]\n",
       "4             13     1                                          [1670763]\n",
       "...          ...   ...                                                ...\n",
       "743392  12648846     1                                           [645240]\n",
       "743393  12648847     1                                          [1157604]\n",
       "743394  12648848     1                                          [1100860]\n",
       "743395  12648849     1                                           [360363]\n",
       "743396  12648850     1                                          [1196630]\n",
       "\n",
       "[743397 rows x 3 columns]"
      ]
     },
     "execution_count": 37,
     "metadata": {},
     "output_type": "execute_result"
    }
   ],
   "source": [
    "session_his = df_train_offline.loc[df_train_offline['session'].isin(target_users)].groupby(['session','type'],as_index=False)['aid'].agg(list)\n",
    "session_his"
   ]
  },
  {
   "cell_type": "code",
   "execution_count": 38,
   "metadata": {},
   "outputs": [
    {
     "data": {
      "text/plain": [
       "534174"
      ]
     },
     "execution_count": 38,
     "metadata": {},
     "output_type": "execute_result"
    }
   ],
   "source": [
    "session_his['session'].nunique()"
   ]
  },
  {
   "cell_type": "code",
   "execution_count": 39,
   "metadata": {},
   "outputs": [],
   "source": [
    "his_click_dict = dict(zip(session_his.loc[session_his['type']==1,'session'],session_his.loc[session_his['type']==1,'aid']))\n",
    "his_cart_dict = dict(zip(session_his.loc[session_his['type']==2,'session'],session_his.loc[session_his['type']==2,'aid']))\n",
    "his_order_dict = dict(zip(session_his.loc[session_his['type']==3,'session'],session_his.loc[session_his['type']==3,'aid']))"
   ]
  },
  {
   "cell_type": "code",
   "execution_count": 61,
   "metadata": {},
   "outputs": [],
   "source": [
    "from sklearn.metrics.pairwise import cosine_similarity\n",
    "from scipy.sparse import coo_matrix, csr_matrix\n",
    "\n",
    "row, col = df_train_offline['session'].values, df_train_offline['aid'].values\n",
    "data = np.ones(len(df_train_offline))\n",
    "\n",
    "# Construct sparse matrix (COO format) and convert to CSR for efficient operations\n",
    "interaction_matrix = coo_matrix((data, (row, col)))\n",
    "sparse_matrix = interaction_matrix.tocsr()\n",
    "\n",
    "# Step 2: Compute Cosine Similarity for Aids (Items)\n",
    "item_similarity = cosine_similarity(sparse_matrix.T, dense_output=False)\n",
    "\n",
    "# Map aid indices to IDs\n",
    "unique_aids = np.unique(df_train_offline['aid'])\n",
    "aid_to_index = {aid: idx for idx, aid in enumerate(unique_aids)}\n",
    "index_to_aid = {idx: aid for aid, idx in aid_to_index.items()}"
   ]
  },
  {
   "cell_type": "code",
   "execution_count": 65,
   "metadata": {},
   "outputs": [
    {
     "name": "stderr",
     "output_type": "stream",
     "text": [
      "100%|██████████| 1260204/1260204 [2:38:06<00:00, 132.84it/s]   \n"
     ]
    }
   ],
   "source": [
    "def jaccard_similarity(set1, set2):\n",
    "    intersection = len(set1 & set2)\n",
    "    union = len(set1 | set2)\n",
    "    return intersection / union if union > 0 else 0\n",
    "\n",
    "def collaborative_recommendations(aid_history, top_n=20):\n",
    "    # Ensure dimensions match\n",
    "    num_aids = item_similarity.shape[0]\n",
    "    related_scores = np.zeros(num_aids)\n",
    "\n",
    "    for aid in aid_history:\n",
    "        if aid in aid_to_index:\n",
    "            aid_idx = aid_to_index[aid]\n",
    "            \n",
    "            # Ensure aid_idx is within bounds of item_similarity\n",
    "            if aid_idx < num_aids:\n",
    "                # Access sparse similarity row\n",
    "                similarity_row = item_similarity[aid_idx]\n",
    "                # Use sparse addition\n",
    "                related_scores += similarity_row.toarray().ravel()\n",
    "\n",
    "    # Rank recommendations\n",
    "    recommended_indices = np.argsort(-related_scores)[:top_n]\n",
    "    return [index_to_aid[idx] for idx in recommended_indices if idx in index_to_aid]\n",
    "\n",
    "# Generate recommendations with Jaccard similarity for orders\n",
    "res = []\n",
    "\n",
    "for each_session in tqdm(df_val_offline['session'].unique()):\n",
    "    # Clicks\n",
    "    if each_session in his_click_dict:\n",
    "        his_click_tmp = set(his_click_dict[each_session])\n",
    "        res.append([str(each_session) + '_clicks'] +\n",
    "                   [' '.join([str(x) for x in top200_aid_click if x not in his_click_tmp][:20])])\n",
    "    else:\n",
    "        res.append([str(each_session) + '_clicks'] +\n",
    "                   [' '.join([str(x) for x in top200_aid_click][:20])])\n",
    "    \n",
    "    # Carts\n",
    "    if each_session in his_cart_dict:\n",
    "        his_cart_tmp = set(his_cart_dict[each_session])\n",
    "        res.append([str(each_session) + '_carts'] +\n",
    "                   [' '.join([str(x) for x in top200_aid_cart if x not in his_cart_tmp][:20])])\n",
    "    else:\n",
    "        res.append([str(each_session) + '_carts'] +\n",
    "                   [' '.join([str(x) for x in top200_aid_cart][:20])])\n",
    "    \n",
    "    # Orders with collaborative filtering and Jaccard similarity\n",
    "    if each_session in his_order_dict:\n",
    "        his_order_tmp = set(his_order_dict[each_session])\n",
    "        jaccard_scores = [(aid, jaccard_similarity(his_order_tmp, {aid})) for aid in top200_aid_order]\n",
    "        jaccard_sorted = [aid for aid, score in sorted(jaccard_scores, key=lambda x: x[1], reverse=True) if aid not in his_order_tmp]\n",
    "        \n",
    "        # Merge with collaborative filtering recommendations\n",
    "        collaborative_rec = collaborative_recommendations(his_order_tmp, top_n=20)\n",
    "        combined_recs = list(set(jaccard_sorted[:10] + collaborative_rec[:10]))\n",
    "        res.append([str(each_session) + '_orders'] + [' '.join(map(str, combined_recs))])\n",
    "    else:\n",
    "        res.append([str(each_session) + '_orders'] +\n",
    "                   [' '.join([str(x) for x in top200_aid_order][:20])])"
   ]
  },
  {
   "cell_type": "code",
   "execution_count": 66,
   "metadata": {},
   "outputs": [
    {
     "data": {
      "text/html": [
       "<div>\n",
       "<style scoped>\n",
       "    .dataframe tbody tr th:only-of-type {\n",
       "        vertical-align: middle;\n",
       "    }\n",
       "\n",
       "    .dataframe tbody tr th {\n",
       "        vertical-align: top;\n",
       "    }\n",
       "\n",
       "    .dataframe thead th {\n",
       "        text-align: right;\n",
       "    }\n",
       "</style>\n",
       "<table border=\"1\" class=\"dataframe\">\n",
       "  <thead>\n",
       "    <tr style=\"text-align: right;\">\n",
       "      <th></th>\n",
       "      <th>0</th>\n",
       "      <th>1</th>\n",
       "    </tr>\n",
       "  </thead>\n",
       "  <tbody>\n",
       "    <tr>\n",
       "      <th>0</th>\n",
       "      <td>0_clicks</td>\n",
       "      <td>876493 1460571 108125 373490 184976 1116095 15...</td>\n",
       "    </tr>\n",
       "    <tr>\n",
       "      <th>1</th>\n",
       "      <td>0_carts</td>\n",
       "      <td>876493 122983 166037 554660 1531805 373490 171...</td>\n",
       "    </tr>\n",
       "    <tr>\n",
       "      <th>2</th>\n",
       "      <td>0_orders</td>\n",
       "      <td>667791 166037 1089436 1531805 13344 923948 995...</td>\n",
       "    </tr>\n",
       "    <tr>\n",
       "      <th>3</th>\n",
       "      <td>1_clicks</td>\n",
       "      <td>876493 171982 1460571 108125 373490 184976 111...</td>\n",
       "    </tr>\n",
       "    <tr>\n",
       "      <th>4</th>\n",
       "      <td>1_carts</td>\n",
       "      <td>876493 122983 166037 554660 1531805 373490 171...</td>\n",
       "    </tr>\n",
       "    <tr>\n",
       "      <th>...</th>\n",
       "      <td>...</td>\n",
       "      <td>...</td>\n",
       "    </tr>\n",
       "    <tr>\n",
       "      <th>3780607</th>\n",
       "      <td>12899777_carts</td>\n",
       "      <td>876493 122983 166037 554660 1531805 373490 171...</td>\n",
       "    </tr>\n",
       "    <tr>\n",
       "      <th>3780608</th>\n",
       "      <td>12899777_orders</td>\n",
       "      <td>876493 122983 171982 373490 1531805 1445562 16...</td>\n",
       "    </tr>\n",
       "    <tr>\n",
       "      <th>3780609</th>\n",
       "      <td>12899778_clicks</td>\n",
       "      <td>876493 171982 1460571 108125 373490 184976 111...</td>\n",
       "    </tr>\n",
       "    <tr>\n",
       "      <th>3780610</th>\n",
       "      <td>12899778_carts</td>\n",
       "      <td>876493 122983 166037 554660 1531805 373490 171...</td>\n",
       "    </tr>\n",
       "    <tr>\n",
       "      <th>3780611</th>\n",
       "      <td>12899778_orders</td>\n",
       "      <td>876493 122983 171982 373490 1531805 1445562 16...</td>\n",
       "    </tr>\n",
       "  </tbody>\n",
       "</table>\n",
       "<p>3780612 rows × 2 columns</p>\n",
       "</div>"
      ],
      "text/plain": [
       "                       0                                                  1\n",
       "0               0_clicks  876493 1460571 108125 373490 184976 1116095 15...\n",
       "1                0_carts  876493 122983 166037 554660 1531805 373490 171...\n",
       "2               0_orders  667791 166037 1089436 1531805 13344 923948 995...\n",
       "3               1_clicks  876493 171982 1460571 108125 373490 184976 111...\n",
       "4                1_carts  876493 122983 166037 554660 1531805 373490 171...\n",
       "...                  ...                                                ...\n",
       "3780607   12899777_carts  876493 122983 166037 554660 1531805 373490 171...\n",
       "3780608  12899777_orders  876493 122983 171982 373490 1531805 1445562 16...\n",
       "3780609  12899778_clicks  876493 171982 1460571 108125 373490 184976 111...\n",
       "3780610   12899778_carts  876493 122983 166037 554660 1531805 373490 171...\n",
       "3780611  12899778_orders  876493 122983 171982 373490 1531805 1445562 16...\n",
       "\n",
       "[3780612 rows x 2 columns]"
      ]
     },
     "execution_count": 66,
     "metadata": {},
     "output_type": "execute_result"
    }
   ],
   "source": [
    "df_res = pd.DataFrame(res)\n",
    "df_res"
   ]
  },
  {
   "cell_type": "code",
   "execution_count": 67,
   "metadata": {},
   "outputs": [],
   "source": [
    "res_dict = dict(zip(df_res[0],df_res[1]))"
   ]
  },
  {
   "cell_type": "code",
   "execution_count": 68,
   "metadata": {},
   "outputs": [],
   "source": [
    "session_items_val = df_val_offline.groupby(['session','type'],as_index=False)['aid'].agg(set)"
   ]
  },
  {
   "cell_type": "code",
   "execution_count": 69,
   "metadata": {},
   "outputs": [
    {
     "data": {
      "text/html": [
       "<div>\n",
       "<style scoped>\n",
       "    .dataframe tbody tr th:only-of-type {\n",
       "        vertical-align: middle;\n",
       "    }\n",
       "\n",
       "    .dataframe tbody tr th {\n",
       "        vertical-align: top;\n",
       "    }\n",
       "\n",
       "    .dataframe thead th {\n",
       "        text-align: right;\n",
       "    }\n",
       "</style>\n",
       "<table border=\"1\" class=\"dataframe\">\n",
       "  <thead>\n",
       "    <tr style=\"text-align: right;\">\n",
       "      <th></th>\n",
       "      <th>session</th>\n",
       "      <th>type</th>\n",
       "      <th>aid</th>\n",
       "    </tr>\n",
       "  </thead>\n",
       "  <tbody>\n",
       "    <tr>\n",
       "      <th>0</th>\n",
       "      <td>0</td>\n",
       "      <td>1</td>\n",
       "      <td>{843110, 543308, 1228848, 161938, 219925, 9380...</td>\n",
       "    </tr>\n",
       "    <tr>\n",
       "      <th>1</th>\n",
       "      <td>1</td>\n",
       "      <td>1</td>\n",
       "      <td>{207905, 497868, 376932, 1628317}</td>\n",
       "    </tr>\n",
       "    <tr>\n",
       "      <th>2</th>\n",
       "      <td>2</td>\n",
       "      <td>1</td>\n",
       "      <td>{808782, 690631, 485582, 1605711, 526287, 4653...</td>\n",
       "    </tr>\n",
       "    <tr>\n",
       "      <th>3</th>\n",
       "      <td>2</td>\n",
       "      <td>2</td>\n",
       "      <td>{161269}</td>\n",
       "    </tr>\n",
       "    <tr>\n",
       "      <th>4</th>\n",
       "      <td>13</td>\n",
       "      <td>1</td>\n",
       "      <td>{22195}</td>\n",
       "    </tr>\n",
       "    <tr>\n",
       "      <th>...</th>\n",
       "      <td>...</td>\n",
       "      <td>...</td>\n",
       "      <td>...</td>\n",
       "    </tr>\n",
       "    <tr>\n",
       "      <th>1604121</th>\n",
       "      <td>12899774</td>\n",
       "      <td>1</td>\n",
       "      <td>{33035, 1399483}</td>\n",
       "    </tr>\n",
       "    <tr>\n",
       "      <th>1604122</th>\n",
       "      <td>12899775</td>\n",
       "      <td>1</td>\n",
       "      <td>{1760714, 1743151}</td>\n",
       "    </tr>\n",
       "    <tr>\n",
       "      <th>1604123</th>\n",
       "      <td>12899776</td>\n",
       "      <td>1</td>\n",
       "      <td>{1737908, 548599}</td>\n",
       "    </tr>\n",
       "    <tr>\n",
       "      <th>1604124</th>\n",
       "      <td>12899777</td>\n",
       "      <td>1</td>\n",
       "      <td>{384045}</td>\n",
       "    </tr>\n",
       "    <tr>\n",
       "      <th>1604125</th>\n",
       "      <td>12899778</td>\n",
       "      <td>1</td>\n",
       "      <td>{561560, 32070}</td>\n",
       "    </tr>\n",
       "  </tbody>\n",
       "</table>\n",
       "<p>1604126 rows × 3 columns</p>\n",
       "</div>"
      ],
      "text/plain": [
       "          session  type                                                aid\n",
       "0               0     1  {843110, 543308, 1228848, 161938, 219925, 9380...\n",
       "1               1     1                  {207905, 497868, 376932, 1628317}\n",
       "2               2     1  {808782, 690631, 485582, 1605711, 526287, 4653...\n",
       "3               2     2                                           {161269}\n",
       "4              13     1                                            {22195}\n",
       "...           ...   ...                                                ...\n",
       "1604121  12899774     1                                   {33035, 1399483}\n",
       "1604122  12899775     1                                 {1760714, 1743151}\n",
       "1604123  12899776     1                                  {1737908, 548599}\n",
       "1604124  12899777     1                                           {384045}\n",
       "1604125  12899778     1                                    {561560, 32070}\n",
       "\n",
       "[1604126 rows x 3 columns]"
      ]
     },
     "execution_count": 69,
     "metadata": {},
     "output_type": "execute_result"
    }
   ],
   "source": [
    "session_items_val "
   ]
  },
  {
   "cell_type": "code",
   "execution_count": 70,
   "metadata": {},
   "outputs": [],
   "source": [
    "def getScore(df, type_, suffix):\n",
    "    df_tmp = df[df['type']==type_].reset_index(drop=True)\n",
    "    \n",
    "    score_Numerator = 0\n",
    "    score_Denominator = 0\n",
    "\n",
    "    for i,row in tqdm( df_tmp.iterrows(),total=len(df_tmp) ):\n",
    "        recom_tmp = [int(x) for x in res_dict[str(row['session'])+suffix].split(' ')]\n",
    "        score_Numerator += len(row['aid'] & set(recom_tmp))\n",
    "        score_Denominator += min(20,len(row['aid']))\n",
    "        \n",
    "    return score_Numerator/score_Denominator"
   ]
  },
  {
   "cell_type": "code",
   "execution_count": 71,
   "metadata": {},
   "outputs": [
    {
     "name": "stderr",
     "output_type": "stream",
     "text": [
      "100%|██████████| 1257089/1257089 [00:43<00:00, 28623.93it/s]\n"
     ]
    }
   ],
   "source": [
    "score_click = getScore(session_items_val,1,'_clicks')"
   ]
  },
  {
   "cell_type": "code",
   "execution_count": 72,
   "metadata": {},
   "outputs": [
    {
     "name": "stderr",
     "output_type": "stream",
     "text": [
      "100%|██████████| 253412/253412 [00:08<00:00, 28898.11it/s]\n"
     ]
    }
   ],
   "source": [
    "score_cart = getScore(session_items_val,2,'_carts')"
   ]
  },
  {
   "cell_type": "code",
   "execution_count": 73,
   "metadata": {},
   "outputs": [
    {
     "name": "stderr",
     "output_type": "stream",
     "text": [
      "100%|██████████| 93625/93625 [00:03<00:00, 27154.36it/s]\n"
     ]
    }
   ],
   "source": [
    "score_order = getScore(session_items_val,3,'_orders')"
   ]
  },
  {
   "cell_type": "code",
   "execution_count": 74,
   "metadata": {},
   "outputs": [
    {
     "data": {
      "text/plain": [
       "0.00976382719440361"
      ]
     },
     "execution_count": 74,
     "metadata": {},
     "output_type": "execute_result"
    }
   ],
   "source": [
    "score_click * 0.1 + score_cart * 0.3 + score_order * 0.6"
   ]
  }
 ],
 "metadata": {
  "kernelspec": {
   "display_name": "Python 3",
   "language": "python",
   "name": "python3"
  },
  "language_info": {
   "codemirror_mode": {
    "name": "ipython",
    "version": 3
   },
   "file_extension": ".py",
   "mimetype": "text/x-python",
   "name": "python",
   "nbconvert_exporter": "python",
   "pygments_lexer": "ipython3",
   "version": "3.11.9"
  }
 },
 "nbformat": 4,
 "nbformat_minor": 2
}
